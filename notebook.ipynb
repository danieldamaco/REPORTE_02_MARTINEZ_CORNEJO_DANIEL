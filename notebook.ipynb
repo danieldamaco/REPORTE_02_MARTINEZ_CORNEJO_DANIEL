{
 "cells": [
  {
   "cell_type": "code",
   "execution_count": 8,
   "metadata": {
    "cell_id": "b6af4fc1-78f2-4e42-9dce-1786fd1a24e0",
    "deepnote_cell_type": "code",
    "deepnote_to_be_reexecuted": false,
    "execution_millis": 0,
    "execution_start": 1646506152520,
    "source_hash": "9b82ee11",
    "tags": []
   },
   "outputs": [],
   "source": [
    "import pandas as pd"
   ]
  },
  {
   "cell_type": "code",
   "execution_count": 9,
   "metadata": {
    "cell_id": "293ac814-0084-49ab-97b7-c5d249f7033f",
    "deepnote_cell_type": "code",
    "deepnote_to_be_reexecuted": false,
    "execution_millis": 51,
    "execution_start": 1646506152521,
    "source_hash": "64d417f1",
    "tags": []
   },
   "outputs": [
    {
     "data": {
      "text/html": [
       "<div>\n",
       "<style scoped>\n",
       "    .dataframe tbody tr th:only-of-type {\n",
       "        vertical-align: middle;\n",
       "    }\n",
       "\n",
       "    .dataframe tbody tr th {\n",
       "        vertical-align: top;\n",
       "    }\n",
       "\n",
       "    .dataframe thead th {\n",
       "        text-align: right;\n",
       "    }\n",
       "</style>\n",
       "<table border=\"1\" class=\"dataframe\">\n",
       "  <thead>\n",
       "    <tr style=\"text-align: right;\">\n",
       "      <th></th>\n",
       "      <th>register_id</th>\n",
       "      <th>direction</th>\n",
       "      <th>origin</th>\n",
       "      <th>destination</th>\n",
       "      <th>year</th>\n",
       "      <th>date</th>\n",
       "      <th>product</th>\n",
       "      <th>transport_mode</th>\n",
       "      <th>company_name</th>\n",
       "      <th>total_value</th>\n",
       "    </tr>\n",
       "  </thead>\n",
       "  <tbody>\n",
       "    <tr>\n",
       "      <th>0</th>\n",
       "      <td>1</td>\n",
       "      <td>Exports</td>\n",
       "      <td>Japan</td>\n",
       "      <td>China</td>\n",
       "      <td>2015</td>\n",
       "      <td>31/01/15</td>\n",
       "      <td>Cars</td>\n",
       "      <td>Sea</td>\n",
       "      <td>Honda</td>\n",
       "      <td>33000000</td>\n",
       "    </tr>\n",
       "    <tr>\n",
       "      <th>1</th>\n",
       "      <td>2</td>\n",
       "      <td>Exports</td>\n",
       "      <td>Japan</td>\n",
       "      <td>China</td>\n",
       "      <td>2015</td>\n",
       "      <td>01/02/15</td>\n",
       "      <td>Cars</td>\n",
       "      <td>Sea</td>\n",
       "      <td>Honda</td>\n",
       "      <td>16000000</td>\n",
       "    </tr>\n",
       "    <tr>\n",
       "      <th>2</th>\n",
       "      <td>3</td>\n",
       "      <td>Exports</td>\n",
       "      <td>Japan</td>\n",
       "      <td>China</td>\n",
       "      <td>2015</td>\n",
       "      <td>02/02/15</td>\n",
       "      <td>Cars</td>\n",
       "      <td>Sea</td>\n",
       "      <td>Honda</td>\n",
       "      <td>29000000</td>\n",
       "    </tr>\n",
       "    <tr>\n",
       "      <th>3</th>\n",
       "      <td>4</td>\n",
       "      <td>Exports</td>\n",
       "      <td>Japan</td>\n",
       "      <td>China</td>\n",
       "      <td>2015</td>\n",
       "      <td>03/02/15</td>\n",
       "      <td>Cars</td>\n",
       "      <td>Sea</td>\n",
       "      <td>Honda</td>\n",
       "      <td>14000000</td>\n",
       "    </tr>\n",
       "    <tr>\n",
       "      <th>4</th>\n",
       "      <td>5</td>\n",
       "      <td>Exports</td>\n",
       "      <td>Japan</td>\n",
       "      <td>China</td>\n",
       "      <td>2015</td>\n",
       "      <td>04/02/15</td>\n",
       "      <td>Cars</td>\n",
       "      <td>Sea</td>\n",
       "      <td>Honda</td>\n",
       "      <td>17000000</td>\n",
       "    </tr>\n",
       "    <tr>\n",
       "      <th>...</th>\n",
       "      <td>...</td>\n",
       "      <td>...</td>\n",
       "      <td>...</td>\n",
       "      <td>...</td>\n",
       "      <td>...</td>\n",
       "      <td>...</td>\n",
       "      <td>...</td>\n",
       "      <td>...</td>\n",
       "      <td>...</td>\n",
       "      <td>...</td>\n",
       "    </tr>\n",
       "    <tr>\n",
       "      <th>19051</th>\n",
       "      <td>19052</td>\n",
       "      <td>Imports</td>\n",
       "      <td>Japan</td>\n",
       "      <td>Singapore</td>\n",
       "      <td>2020</td>\n",
       "      <td>27/06/20</td>\n",
       "      <td>Gas turbines</td>\n",
       "      <td>Sea</td>\n",
       "      <td>Union Energy Co</td>\n",
       "      <td>1000000</td>\n",
       "    </tr>\n",
       "    <tr>\n",
       "      <th>19052</th>\n",
       "      <td>19053</td>\n",
       "      <td>Imports</td>\n",
       "      <td>Malaysia</td>\n",
       "      <td>Singapore</td>\n",
       "      <td>2020</td>\n",
       "      <td>28/06/20</td>\n",
       "      <td>Gas turbines</td>\n",
       "      <td>Sea</td>\n",
       "      <td>Union Energy Co</td>\n",
       "      <td>2000000</td>\n",
       "    </tr>\n",
       "    <tr>\n",
       "      <th>19053</th>\n",
       "      <td>19054</td>\n",
       "      <td>Imports</td>\n",
       "      <td>Malaysia</td>\n",
       "      <td>Singapore</td>\n",
       "      <td>2020</td>\n",
       "      <td>29/06/20</td>\n",
       "      <td>Gas turbines</td>\n",
       "      <td>Sea</td>\n",
       "      <td>Union Energy Co</td>\n",
       "      <td>33000000</td>\n",
       "    </tr>\n",
       "    <tr>\n",
       "      <th>19054</th>\n",
       "      <td>19055</td>\n",
       "      <td>Imports</td>\n",
       "      <td>Malaysia</td>\n",
       "      <td>Singapore</td>\n",
       "      <td>2020</td>\n",
       "      <td>30/06/20</td>\n",
       "      <td>Gas turbines</td>\n",
       "      <td>Sea</td>\n",
       "      <td>Union Energy Co</td>\n",
       "      <td>13000000</td>\n",
       "    </tr>\n",
       "    <tr>\n",
       "      <th>19055</th>\n",
       "      <td>19056</td>\n",
       "      <td>Imports</td>\n",
       "      <td>Malaysia</td>\n",
       "      <td>Singapore</td>\n",
       "      <td>2020</td>\n",
       "      <td>01/07/20</td>\n",
       "      <td>Gas turbines</td>\n",
       "      <td>Sea</td>\n",
       "      <td>Union Energy Co</td>\n",
       "      <td>30000000</td>\n",
       "    </tr>\n",
       "  </tbody>\n",
       "</table>\n",
       "<p>19056 rows × 10 columns</p>\n",
       "</div>"
      ],
      "text/plain": [
       "       register_id direction    origin destination  year      date  \\\n",
       "0                1   Exports     Japan       China  2015  31/01/15   \n",
       "1                2   Exports     Japan       China  2015  01/02/15   \n",
       "2                3   Exports     Japan       China  2015  02/02/15   \n",
       "3                4   Exports     Japan       China  2015  03/02/15   \n",
       "4                5   Exports     Japan       China  2015  04/02/15   \n",
       "...            ...       ...       ...         ...   ...       ...   \n",
       "19051        19052   Imports     Japan   Singapore  2020  27/06/20   \n",
       "19052        19053   Imports  Malaysia   Singapore  2020  28/06/20   \n",
       "19053        19054   Imports  Malaysia   Singapore  2020  29/06/20   \n",
       "19054        19055   Imports  Malaysia   Singapore  2020  30/06/20   \n",
       "19055        19056   Imports  Malaysia   Singapore  2020  01/07/20   \n",
       "\n",
       "            product transport_mode     company_name  total_value  \n",
       "0              Cars            Sea            Honda     33000000  \n",
       "1              Cars            Sea            Honda     16000000  \n",
       "2              Cars            Sea            Honda     29000000  \n",
       "3              Cars            Sea            Honda     14000000  \n",
       "4              Cars            Sea            Honda     17000000  \n",
       "...             ...            ...              ...          ...  \n",
       "19051  Gas turbines            Sea  Union Energy Co      1000000  \n",
       "19052  Gas turbines            Sea  Union Energy Co      2000000  \n",
       "19053  Gas turbines            Sea  Union Energy Co     33000000  \n",
       "19054  Gas turbines            Sea  Union Energy Co     13000000  \n",
       "19055  Gas turbines            Sea  Union Energy Co     30000000  \n",
       "\n",
       "[19056 rows x 10 columns]"
      ]
     },
     "execution_count": 9,
     "metadata": {},
     "output_type": "execute_result"
    }
   ],
   "source": [
    "df = pd.read_csv('/Users/danielmartinez/Desktop/EMTECH/Proyecto_final_2/synergy_logistics_database.csv')\n",
    "df"
   ]
  },
  {
   "cell_type": "code",
   "execution_count": 10,
   "metadata": {
    "cell_id": "4ee58ef2-05a0-46dc-8284-7708057fefc2",
    "deepnote_cell_type": "code",
    "deepnote_to_be_reexecuted": false,
    "execution_millis": 3,
    "execution_start": 1646506152780,
    "source_hash": "52430027",
    "tags": []
   },
   "outputs": [
    {
     "data": {
      "text/plain": [
       "register_id        int64\n",
       "direction         object\n",
       "origin            object\n",
       "destination       object\n",
       "year               int64\n",
       "date              object\n",
       "product           object\n",
       "transport_mode    object\n",
       "company_name      object\n",
       "total_value        int64\n",
       "dtype: object"
      ]
     },
     "execution_count": 10,
     "metadata": {},
     "output_type": "execute_result"
    }
   ],
   "source": [
    "df.dtypes"
   ]
  },
  {
   "cell_type": "code",
   "execution_count": 11,
   "metadata": {
    "cell_id": "4885947e-24f4-4fcb-b186-eaee15e86ff7",
    "deepnote_cell_type": "code",
    "deepnote_to_be_reexecuted": false,
    "execution_millis": 43,
    "execution_start": 1646506152781,
    "source_hash": "94785d84",
    "tags": []
   },
   "outputs": [],
   "source": [
    "df[['direction', 'origin', 'destination', 'product', 'transport_mode', 'company_name']] = df[['direction', 'origin', 'destination', 'product', 'transport_mode', 'company_name']].astype('category')"
   ]
  },
  {
   "cell_type": "code",
   "execution_count": 12,
   "metadata": {
    "cell_id": "cfb4e121-8ab1-4445-ad36-0755bd07a0fd",
    "deepnote_cell_type": "code",
    "deepnote_to_be_reexecuted": false,
    "execution_millis": 0,
    "execution_start": 1646506152825,
    "source_hash": "d574dd84",
    "tags": []
   },
   "outputs": [],
   "source": [
    "df['year'] = pd.to_datetime(\n",
    "    df['year'],\n",
    "    errors='coerce',\n",
    "    format = '%m/%d/%Y %H:%M:%S %p'\n",
    ")"
   ]
  },
  {
   "cell_type": "code",
   "execution_count": 13,
   "metadata": {
    "cell_id": "871ce07f-099a-4334-b268-50ed0448f469",
    "deepnote_cell_type": "code",
    "deepnote_to_be_reexecuted": false,
    "execution_millis": 42,
    "execution_start": 1646506152826,
    "source_hash": "5ab2978a",
    "tags": []
   },
   "outputs": [],
   "source": [
    "df['date'] = pd.to_datetime(\n",
    "    df['date'],\n",
    "    errors='coerce',\n",
    "    format = '%m/%d/%Y %H:%M:%S %p'\n",
    ")"
   ]
  },
  {
   "cell_type": "code",
   "execution_count": 14,
   "metadata": {
    "cell_id": "d1456bd5-4e85-4bce-93af-153ff2d04e2d",
    "deepnote_cell_type": "code",
    "deepnote_to_be_reexecuted": false,
    "execution_millis": 1,
    "execution_start": 1646506152868,
    "source_hash": "52430027",
    "tags": []
   },
   "outputs": [
    {
     "data": {
      "text/plain": [
       "register_id                int64\n",
       "direction               category\n",
       "origin                  category\n",
       "destination             category\n",
       "year              datetime64[ns]\n",
       "date              datetime64[ns]\n",
       "product                 category\n",
       "transport_mode          category\n",
       "company_name            category\n",
       "total_value                int64\n",
       "dtype: object"
      ]
     },
     "execution_count": 14,
     "metadata": {},
     "output_type": "execute_result"
    }
   ],
   "source": [
    "df.dtypes"
   ]
  },
  {
   "cell_type": "markdown",
   "metadata": {
    "cell_id": "70c8cd9c-0086-4fc2-b18c-95e5ee4d7c93",
    "deepnote_cell_type": "markdown",
    "tags": []
   },
   "source": [
    "### Opción 1) Rutas de importación y exportación. \n",
    "\n",
    "* Synergy logistics está considerando la posibilidad de enfocar sus esfuerzos en las 10 rutas más demandadas. Acorde a los flujos de importación y exportación, ¿cuáles son esas 10 rutas? \n",
    "\n",
    "* ¿le conviene implementar esa estrategia? ¿porqué?"
   ]
  },
  {
   "cell_type": "code",
   "execution_count": 15,
   "metadata": {
    "cell_id": "9b5a721e-4e69-48f9-b38c-7ad5e045c16b",
    "deepnote_cell_type": "code",
    "deepnote_to_be_reexecuted": false,
    "execution_millis": 3,
    "execution_start": 1646506152911,
    "source_hash": "ce7b6c1c",
    "tags": []
   },
   "outputs": [
    {
     "data": {
      "text/plain": [
       "origin       destination\n",
       "South Korea  Vietnam        497\n",
       "Netherlands  Belgium        437\n",
       "USA          Netherlands    436\n",
       "Japan        Mexico         385\n",
       "China        Mexico         351\n",
       "             Japan          343\n",
       "Germany      China          328\n",
       "Japan        Brazil         306\n",
       "Germany      France         299\n",
       "South Korea  Japan          294\n",
       "Name: register_id, dtype: int64"
      ]
     },
     "execution_count": 15,
     "metadata": {},
     "output_type": "execute_result"
    }
   ],
   "source": [
    "df_grouped = df.groupby(['origin', 'destination']).count()\n",
    "df_grouped_sorted = df_grouped.sort_values('product', ascending=False)\n",
    "df_grouped_sorted['register_id'].head(10)"
   ]
  },
  {
   "cell_type": "markdown",
   "metadata": {
    "cell_id": "c10dee8d-bdd8-4a46-bb1c-e30029d1911d",
    "deepnote_cell_type": "markdown",
    "tags": []
   },
   "source": [
    "### Opción 2) Medio de transporte utilizado. \n",
    "+ ¿Cuáles son los 3 medios de transporte más importantes para Synergy logistics considerando el valor de las importaciones y exportaciones? \n",
    "+ ¿Cuál es medio de transporte que podrían reducir?"
   ]
  },
  {
   "cell_type": "code",
   "execution_count": 16,
   "metadata": {
    "cell_id": "325f4480-b0ca-44c9-85a2-eca4903b9fe7",
    "deepnote_cell_type": "code",
    "deepnote_to_be_reexecuted": false,
    "execution_millis": 3,
    "execution_start": 1646506152963,
    "source_hash": "7732af4",
    "tags": []
   },
   "outputs": [
    {
     "data": {
      "text/plain": [
       "direction  transport_mode\n",
       "Exports    Air               2045\n",
       "           Rail              2780\n",
       "           Road              2149\n",
       "           Sea               8434\n",
       "Imports    Air                344\n",
       "           Rail               601\n",
       "           Road               449\n",
       "           Sea               2254\n",
       "Name: register_id, dtype: int64"
      ]
     },
     "execution_count": 16,
     "metadata": {},
     "output_type": "execute_result"
    }
   ],
   "source": [
    "df.groupby(['direction', 'transport_mode']).count()['register_id']"
   ]
  },
  {
   "cell_type": "markdown",
   "metadata": {
    "cell_id": "884eaf80-f91f-42b2-8791-0b30979f4894",
    "deepnote_cell_type": "markdown",
    "tags": []
   },
   "source": [
    "Opción 3) Valor total de importaciones y exportaciones. Si Synergy Logistics quisiera enfocarse en los países que le generan el 80% del valor de las exportaciones e importaciones ¿en qué grupo de países debería enfocar sus esfuerzos?"
   ]
  },
  {
   "cell_type": "code",
   "execution_count": 17,
   "metadata": {
    "cell_id": "df66de3c-f685-448e-aeb4-3fbf0df47feb",
    "deepnote_cell_type": "code",
    "deepnote_to_be_reexecuted": false,
    "execution_millis": 49,
    "execution_start": 1646506152964,
    "source_hash": "74c37bb1",
    "tags": []
   },
   "outputs": [],
   "source": [
    "df_countries = df.groupby(['origin', 'destination', 'direction']).count()\n",
    "df_countries_sorted = df_countries.sort_values('product', ascending=False)"
   ]
  },
  {
   "cell_type": "code",
   "execution_count": 18,
   "metadata": {
    "cell_id": "0bf4bb5d-42f6-4506-b8ed-8870ef75fb92",
    "deepnote_cell_type": "code",
    "deepnote_to_be_reexecuted": false,
    "execution_millis": 68,
    "execution_start": 1646506153016,
    "source_hash": "6f2904b8",
    "tags": []
   },
   "outputs": [],
   "source": [
    "df_countries_sorted['cumsum'] = df_countries_sorted['product'].cumsum()"
   ]
  },
  {
   "cell_type": "code",
   "execution_count": 19,
   "metadata": {
    "cell_id": "cda93780-eb27-43a5-b47a-700026a9c844",
    "deepnote_cell_type": "code",
    "deepnote_to_be_reexecuted": false,
    "execution_millis": 0,
    "execution_start": 1646506153084,
    "source_hash": "840db373",
    "tags": []
   },
   "outputs": [],
   "source": [
    "df_countries_sorted['percentage'] = df_countries_sorted['cumsum'] / df_countries_sorted['register_id'].sum() * 100"
   ]
  },
  {
   "cell_type": "code",
   "execution_count": 20,
   "metadata": {
    "cell_id": "57718434-dc89-4754-bee8-365f5b95808b",
    "deepnote_cell_type": "code",
    "deepnote_table_loading": false,
    "deepnote_table_state": {
     "filters": [],
     "pageIndex": 9,
     "pageSize": 10,
     "sortBy": []
    },
    "deepnote_to_be_reexecuted": false,
    "execution_millis": 312307451,
    "execution_start": 1646506153085,
    "source_hash": "203144ce",
    "tags": []
   },
   "outputs": [],
   "source": [
    "df_80 = df_countries_sorted['percentage'].head(98).reset_index()"
   ]
  },
  {
   "cell_type": "code",
   "execution_count": 21,
   "metadata": {
    "cell_id": "14dc1387-4c5c-4d14-a39e-13a2db90b6ce",
    "deepnote_cell_type": "code",
    "deepnote_table_loading": false,
    "deepnote_table_state": {
     "filters": [],
     "pageIndex": 0,
     "pageSize": 100,
     "sortBy": []
    },
    "deepnote_to_be_reexecuted": false,
    "execution_millis": 9,
    "execution_start": 1646506153117,
    "source_hash": "b0d294ef",
    "tags": []
   },
   "outputs": [
    {
     "data": {
      "text/html": [
       "<div>\n",
       "<style scoped>\n",
       "    .dataframe tbody tr th:only-of-type {\n",
       "        vertical-align: middle;\n",
       "    }\n",
       "\n",
       "    .dataframe tbody tr th {\n",
       "        vertical-align: top;\n",
       "    }\n",
       "\n",
       "    .dataframe thead th {\n",
       "        text-align: right;\n",
       "    }\n",
       "</style>\n",
       "<table border=\"1\" class=\"dataframe\">\n",
       "  <thead>\n",
       "    <tr style=\"text-align: right;\">\n",
       "      <th></th>\n",
       "      <th>origin</th>\n",
       "      <th>destination</th>\n",
       "    </tr>\n",
       "  </thead>\n",
       "  <tbody>\n",
       "    <tr>\n",
       "      <th>0</th>\n",
       "      <td>South Korea</td>\n",
       "      <td>Vietnam</td>\n",
       "    </tr>\n",
       "    <tr>\n",
       "      <th>1</th>\n",
       "      <td>Netherlands</td>\n",
       "      <td>Belgium</td>\n",
       "    </tr>\n",
       "    <tr>\n",
       "      <th>2</th>\n",
       "      <td>USA</td>\n",
       "      <td>Netherlands</td>\n",
       "    </tr>\n",
       "    <tr>\n",
       "      <th>3</th>\n",
       "      <td>China</td>\n",
       "      <td>Mexico</td>\n",
       "    </tr>\n",
       "    <tr>\n",
       "      <th>4</th>\n",
       "      <td>Japan</td>\n",
       "      <td>Brazil</td>\n",
       "    </tr>\n",
       "    <tr>\n",
       "      <th>...</th>\n",
       "      <td>...</td>\n",
       "      <td>...</td>\n",
       "    </tr>\n",
       "    <tr>\n",
       "      <th>93</th>\n",
       "      <td>USA</td>\n",
       "      <td>Canada</td>\n",
       "    </tr>\n",
       "    <tr>\n",
       "      <th>94</th>\n",
       "      <td>Mexico</td>\n",
       "      <td>Brazil</td>\n",
       "    </tr>\n",
       "    <tr>\n",
       "      <th>95</th>\n",
       "      <td>Russia</td>\n",
       "      <td>Turkey</td>\n",
       "    </tr>\n",
       "    <tr>\n",
       "      <th>96</th>\n",
       "      <td>Brazil</td>\n",
       "      <td>Netherlands</td>\n",
       "    </tr>\n",
       "    <tr>\n",
       "      <th>97</th>\n",
       "      <td>South Korea</td>\n",
       "      <td>USA</td>\n",
       "    </tr>\n",
       "  </tbody>\n",
       "</table>\n",
       "<p>98 rows × 2 columns</p>\n",
       "</div>"
      ],
      "text/plain": [
       "         origin  destination\n",
       "0   South Korea      Vietnam\n",
       "1   Netherlands      Belgium\n",
       "2           USA  Netherlands\n",
       "3         China       Mexico\n",
       "4         Japan       Brazil\n",
       "..          ...          ...\n",
       "93          USA       Canada\n",
       "94       Mexico       Brazil\n",
       "95       Russia       Turkey\n",
       "96       Brazil  Netherlands\n",
       "97  South Korea          USA\n",
       "\n",
       "[98 rows x 2 columns]"
      ]
     },
     "execution_count": 21,
     "metadata": {},
     "output_type": "execute_result"
    }
   ],
   "source": [
    "df_80[['origin','destination']]"
   ]
  },
  {
   "cell_type": "code",
   "execution_count": 22,
   "metadata": {
    "cell_id": "4243ca12-feb1-4ad4-8be1-696455587a5f",
    "deepnote_cell_type": "code",
    "deepnote_to_be_reexecuted": false,
    "execution_millis": 2,
    "execution_start": 1646506153134,
    "source_hash": "b75e5ee8",
    "tags": []
   },
   "outputs": [
    {
     "data": {
      "text/plain": [
       "destination         \n",
       "USA                     11\n",
       "China                   10\n",
       "Mexico                   8\n",
       "Brazil                   6\n",
       "Germany                  6\n",
       "Japan                    5\n",
       "Belgium                  5\n",
       "Canada                   5\n",
       "Thailand                 5\n",
       "Argentina                3\n",
       "United Kingdom           3\n",
       "United Arab Emirates     3\n",
       "Spain                    3\n",
       "Netherlands              3\n",
       "France                   3\n",
       "Italy                    3\n",
       "South Korea              2\n",
       "Russia                   2\n",
       "Singapore                2\n",
       "Malaysia                 1\n",
       "Belorussia               1\n",
       "Turkey                   1\n",
       "Switzerland              1\n",
       "Ireland                  1\n",
       "Slovakia                 1\n",
       "Poland                   1\n",
       "Philippines              1\n",
       "New Zealand              1\n",
       "Vietnam                  1\n",
       "India                    0\n",
       "Peru                     0\n",
       "Croatia                  0\n",
       "Austria                  0\n",
       "dtype: int64"
      ]
     },
     "execution_count": 22,
     "metadata": {},
     "output_type": "execute_result"
    }
   ],
   "source": [
    "df_80[['destination']].value_counts()"
   ]
  },
  {
   "cell_type": "markdown",
   "metadata": {
    "cell_id": "53098c39-3e7a-4930-ba25-934cd1bea688",
    "deepnote_cell_type": "markdown",
    "tags": []
   },
   "source": [
    "\n",
    "A partir del análisis de las opciones anteriores, ¿Cuál opción u opciones es conveniente implementar como base en la estrategia?\n",
    "Justifica a la dirección tu recomendación en forma de un reporte respaldado por datos y análisis en una extensión máxima de 1.5 cuartillas."
   ]
  },
  {
   "cell_type": "markdown",
   "metadata": {
    "created_in_deepnote_cell": true,
    "deepnote_cell_type": "markdown",
    "tags": []
   },
   "source": [
    "<a style='text-decoration:none;line-height:16px;display:flex;color:#5B5B62;padding:10px;justify-content:end;' href='https://deepnote.com?utm_source=created-in-deepnote-cell&projectId=26d139f0-46cd-48ab-bde1-cce8316500a3' target=\"_blank\">\n",
    "<img alt='Created in deepnote.com' style='display:inline;max-height:16px;margin:0px;margin-right:7.5px;' src='data:image/svg+xml;base64,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' > </img>\n",
    "Created in <span style='font-weight:600;margin-left:4px;'>Deepnote</span></a>"
   ]
  }
 ],
 "metadata": {
  "deepnote": {
   "is_reactive": false
  },
  "deepnote_execution_queue": [],
  "deepnote_notebook_id": "efac94b2-cbad-4338-ab83-ccee3722d189",
  "interpreter": {
   "hash": "43825992cfcc95de21ec448ad911e1c8c6674cbf9a7291bbd86ee202edbaad16"
  },
  "kernelspec": {
   "display_name": "Python 3.8.8 64-bit ('base': conda)",
   "name": "python3"
  },
  "language_info": {
   "codemirror_mode": {
    "name": "ipython",
    "version": 3
   },
   "file_extension": ".py",
   "mimetype": "text/x-python",
   "name": "python",
   "nbconvert_exporter": "python",
   "pygments_lexer": "ipython3",
   "version": "3.8.8"
  },
  "orig_nbformat": 2
 },
 "nbformat": 4,
 "nbformat_minor": 2
}
